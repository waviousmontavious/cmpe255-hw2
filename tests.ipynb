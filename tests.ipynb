{
 "metadata": {
  "language_info": {
   "codemirror_mode": {
    "name": "ipython",
    "version": 3
   },
   "file_extension": ".py",
   "mimetype": "text/x-python",
   "name": "python",
   "nbconvert_exporter": "python",
   "pygments_lexer": "ipython3",
   "version": "3.8.8"
  },
  "orig_nbformat": 2,
  "kernelspec": {
   "name": "python388jvsc74a57bd0502c2cd614d093a3be30031cbabda9e1b1b1c5d2fdc17ac0be9ebae842ffa0cd",
   "display_name": "Python 3.8.8 64-bit ('base': conda)"
  }
 },
 "nbformat": 4,
 "nbformat_minor": 2,
 "cells": [
  {
   "cell_type": "code",
   "execution_count": 17,
   "metadata": {},
   "outputs": [],
   "source": [
    "import numpy as np\n",
    "from sklearn.model_selection import train_test_split\n",
    "from sklearn.preprocessing import StandardScaler\n",
    "from sklearn.decomposition import PCA\n",
    "from sklearn.naive_bayes import GaussianNB\n",
    "from sklearn.svm import SVC\n",
    "from sklearn.tree import DecisionTreeClassifier\n",
    "from sklearn.neural_network import MLPClassifier\n",
    "from sklearn.neighbors import KNeighborsClassifier\n",
    "from sklearn.metrics import accuracy_score\n",
    "from sklearn.pipeline import Pipeline"
   ]
  },
  {
   "cell_type": "code",
   "execution_count": 2,
   "metadata": {},
   "outputs": [],
   "source": [
    "with open('data/train.dat') as file:\n",
    "    train_data = np.loadtxt(file, delimiter=' ')\n",
    "with open('data/train.labels') as file:\n",
    "    train_labels = np.loadtxt(file)"
   ]
  },
  {
   "cell_type": "code",
   "execution_count": 3,
   "metadata": {},
   "outputs": [],
   "source": [
    "train_labels = train_labels.astype(int)"
   ]
  },
  {
   "cell_type": "code",
   "execution_count": 4,
   "metadata": {},
   "outputs": [
    {
     "output_type": "stream",
     "name": "stdout",
     "text": [
      "Explained Variance Ratios: [3.93769773e-01 2.20172894e-01 1.19471691e-01 9.81370704e-02\n 4.83872297e-02 3.75871112e-02 2.38757707e-02 1.28982616e-02\n 1.01015819e-02 9.50935153e-03 4.89691254e-03 3.89743014e-03\n 3.13858295e-03 2.88417632e-03 1.97199250e-03 1.76998103e-03\n 1.41329759e-03 1.00695243e-03 9.18924288e-04 6.82589135e-04\n 6.33042612e-04 5.53197798e-04 4.79835474e-04 3.82989286e-04\n 3.63376462e-04 2.87765312e-04 2.39014137e-04 2.12160245e-04\n 1.09258452e-04 7.32474911e-05]\nTotal Explained Variance: 99.98%\n"
     ]
    }
   ],
   "source": [
    "pca = PCA(n_components=30).fit(train_data)\n",
    "print(f'Explained Variance Ratios: {pca.explained_variance_ratio_}')\n",
    "print(f'Total Explained Variance: {pca.explained_variance_ratio_.sum()*100:.2f}%')"
   ]
  },
  {
   "cell_type": "code",
   "execution_count": 5,
   "metadata": {},
   "outputs": [],
   "source": [
    "X = pca.fit_transform(train_data)"
   ]
  },
  {
   "cell_type": "code",
   "execution_count": 6,
   "metadata": {},
   "outputs": [],
   "source": [
    "X_train, X_test, y_train, y_test = train_test_split(X, train_labels, test_size=0.20, random_state=40)"
   ]
  },
  {
   "cell_type": "code",
   "execution_count": 7,
   "metadata": {},
   "outputs": [
    {
     "output_type": "stream",
     "name": "stdout",
     "text": [
      "accuracy score = 0.4070\n"
     ]
    }
   ],
   "source": [
    "gnb = GaussianNB()\n",
    "y_pred = gnb.fit(X_train, y_train).predict(X_test)\n",
    "print(f'accuracy score = {accuracy_score(y_test, y_pred):.4f}')"
   ]
  },
  {
   "cell_type": "code",
   "execution_count": 8,
   "metadata": {},
   "outputs": [
    {
     "output_type": "stream",
     "name": "stdout",
     "text": [
      "accuracy score = 0.5418\n"
     ]
    }
   ],
   "source": [
    "clf = DecisionTreeClassifier()\n",
    "y_pred = clf.fit(X_train, y_train).predict(X_test)\n",
    "print(f'accuracy score = {accuracy_score(y_test, y_pred):.4f}')"
   ]
  },
  {
   "cell_type": "code",
   "execution_count": 35,
   "metadata": {},
   "outputs": [
    {
     "output_type": "stream",
     "name": "stdout",
     "text": [
      "accuracy score = 0.6789\n"
     ]
    }
   ],
   "source": [
    "mlpc = MLPClassifier(\n",
    "        hidden_layer_sizes=(62,62,62), \n",
    "        activation='relu', \n",
    "        solver='adam', \n",
    "        alpha=0.001,\n",
    "        batch_size=500,\n",
    "        learning_rate='adaptive',\n",
    "        learning_rate_init=0.001,\n",
    "        power_t=0.5,\n",
    "        max_iter=1000,\n",
    "        tol=0.005,\n",
    "        random_state=10\n",
    "    )\n",
    "pipe = Pipeline(steps=[\n",
    "    ('scaler', StandardScaler()),\n",
    "    ('mlp', mlpc),\n",
    "])\n",
    "pipe.fit(X_train, y_train)\n",
    "score = pipe.score(X_test, y_test)\n",
    "print(f'accuracy score = {score:.4f}')"
   ]
  },
  {
   "cell_type": "code",
   "execution_count": 34,
   "metadata": {},
   "outputs": [
    {
     "output_type": "stream",
     "name": "stdout",
     "text": [
      "accuracy score = 0.7131\n"
     ]
    }
   ],
   "source": [
    "knn = KNeighborsClassifier(\n",
    "    n_neighbors=10,\n",
    "    weights='distance',\n",
    "    algorithm='ball_tree',\n",
    "    leaf_size=100,\n",
    "    metric='manhattan'\n",
    ")\n",
    "\n",
    "pipe = Pipeline(steps=[\n",
    "    ('scaler', StandardScaler()),\n",
    "    ('mlp', knn),\n",
    "])\n",
    "pipe.fit(X_train, y_train)\n",
    "score = pipe.score(X_test, y_test)\n",
    "print(f'accuracy score = {score:.4f}')"
   ]
  },
  {
   "cell_type": "code",
   "execution_count": 10,
   "metadata": {},
   "outputs": [],
   "source": [
    "with open('data/test.dat') as file:\n",
    "    test_data = np.loadtxt(file, delimiter=' ')"
   ]
  },
  {
   "cell_type": "code",
   "execution_count": 165,
   "metadata": {},
   "outputs": [],
   "source": [
    "test_data = pca.fit_transform(test_data)"
   ]
  },
  {
   "cell_type": "code",
   "execution_count": 166,
   "metadata": {},
   "outputs": [],
   "source": [
    "test_labels = pipe.predict(test_data)"
   ]
  },
  {
   "cell_type": "code",
   "execution_count": 169,
   "metadata": {},
   "outputs": [],
   "source": [
    "np.savetxt(f'predictions_f1_{score:.4f}.txt', test_labels, '%i')"
   ]
  },
  {
   "cell_type": "code",
   "execution_count": null,
   "metadata": {},
   "outputs": [],
   "source": []
  }
 ]
}